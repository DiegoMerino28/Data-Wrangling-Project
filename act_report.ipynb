{
 "cells": [
  {
   "attachments": {},
   "cell_type": "markdown",
   "metadata": {},
   "source": [
    "# Act Report\n",
    "## Insights\n",
    "\n",
    "### 1. Retweets and Favorites are correlated but they serve a different purpose.\n",
    "\n",
    "We can see that, while puppo is a clear winner in the favorite count, it's tied in the retweet count. Which leads us to believe that users understand and use both features in a completely different manner. On the scatter plot we can confirm that, as said previously, it takes a lot more for a user to retweet than to give a favorite, and also it can be seen that there's a linear relationship between the number of retweets that a tweet has and the number of favorites.\n",
    "\n",
    "![Retweets + Favorites](output_1.png \"Titulo\")\n",
    "\n",
    "### 2. The main source of meadia is twitter, while vine is a residual second place. \n",
    "\n",
    "The incorporation of video and photo as media in twitter has made the need to embed content from outside platforms completely redundant as we can see below. This is a huge change technologically speaking since it allows the users to not leave the site to enjoy the content.\n",
    "\n",
    "### 3. There's no clear correlation between the numerator or score that the users put on the text and the favorite count of the tweet\n",
    "\n",
    "We can see on the plot, that, as expected, the meme score given is actually not correlated with the success of the tweet, hence, mantaining the theory that is just a meme score.\n",
    "\n",
    "![Retweets + Favorites](output_2.png \"Titulo\")"
   ]
  },
  {
   "cell_type": "markdown",
   "metadata": {},
   "source": []
  }
 ],
 "metadata": {
  "kernelspec": {
   "display_name": "Python 3",
   "language": "python",
   "name": "python3"
  },
  "language_info": {
   "name": "python",
   "version": "3.10.4 (v3.10.4:9d38120e33, Mar 23 2022, 17:29:05) [Clang 13.0.0 (clang-1300.0.29.30)]"
  },
  "orig_nbformat": 4,
  "vscode": {
   "interpreter": {
    "hash": "aee8b7b246df8f9039afb4144a1f6fd8d2ca17a180786b69acc140d282b71a49"
   }
  }
 },
 "nbformat": 4,
 "nbformat_minor": 2
}
