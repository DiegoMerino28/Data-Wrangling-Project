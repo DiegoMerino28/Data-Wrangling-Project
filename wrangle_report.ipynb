{
 "cells": [
  {
   "attachments": {},
   "cell_type": "markdown",
   "metadata": {},
   "source": [
    "# Wrangling Report\n",
    "\n",
    "## Quality Issues Found\n",
    "\n",
    "### 1. We have a lot of Retweets in the database. \n",
    "    After exploring the database, we realize that we had a lot of retweets, that are not actually useful for the analysis that we are performing, we eliminated the rts from the data and ensured the deletion afterwards.\n",
    "\n",
    "### 2. We identified 78 Tweets that are actually responses to the original tweets.\n",
    "    We also checked a nd found 78 tweets on our data that are responses to the original tweets. We eliminated them and ensured the deletion.\n",
    "\n",
    "### 3. We have extra text on the source column, not categorising it correctly.\n",
    "    We performed a cleaning on the source column, that had a lot of html code that was not necessary for analysis. We extracted the necessary text and converted the field to a category one.\n",
    "\n",
    "### 4. Wrong data types on Timestamp columns.\n",
    "    The timestamps fields where not on the correct datatime, we cleaned the extra text that was found on the field. Then we converted to datetime and checked the data has been cast.\n",
    "\n",
    "### 5. We have 745 rows without name.\n",
    "    There are 745 rows with an empty name field. We checked if we could extact this data from the tweet's text, but we confirmed that the missing data is because there is no info about the dog's name.\n",
    "\n",
    "### 6. Wrong data type on id columns. (should be integer)\n",
    "    The tweet id column was cast as a float on the data loading, we converted it to integer to be able to perfom the join correctly.\n",
    "\n",
    "### 7. There are 59 expanded_urls values missing.\n",
    "    We filled the 59 expanded_urls missing using the id plus the string that preceeds all tweets ('https://twitter.com/dog_rates/status/')\n",
    "\n",
    "### 8. Wrong category on the dogs columns. Should be category once fixed.\n",
    "    There are 4 columns to define the dog category, which can be joined in just one. We backfill the new column with the data of the original four columns (that are complementary). We needed to change the 'None' strings to NaNs to be able to perform the backfill correctly. This also fixed the Issue #1 regarding Tidiness.\n",
    "\n",
    "## Tidiness Issues Found\n",
    "\n",
    "### 1. There are 4 columns to identify the kind of dog.\n",
    "    This tidiness issue was solved on the previous issue. We now have just one column for the one variable 'dog_types'\n",
    "### 2. We should have just 2 tables (tweets and predictions).\n",
    "    We reduced the data to just 2 tables, the enhanced tweets table with all the information regarding the tweets extracted + the one extracted from the twitter API. We joined those two dataframes.\n",
    "\n"
   ]
  },
  {
   "cell_type": "markdown",
   "metadata": {},
   "source": []
  }
 ],
 "metadata": {
  "kernelspec": {
   "display_name": "Python 3",
   "language": "python",
   "name": "python3"
  },
  "language_info": {
   "name": "python",
   "version": "3.10.4 (v3.10.4:9d38120e33, Mar 23 2022, 17:29:05) [Clang 13.0.0 (clang-1300.0.29.30)]"
  },
  "orig_nbformat": 4,
  "vscode": {
   "interpreter": {
    "hash": "aee8b7b246df8f9039afb4144a1f6fd8d2ca17a180786b69acc140d282b71a49"
   }
  }
 },
 "nbformat": 4,
 "nbformat_minor": 2
}
